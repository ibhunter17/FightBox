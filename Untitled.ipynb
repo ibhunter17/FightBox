{
 "cells": [
  {
   "cell_type": "code",
   "execution_count": 48,
   "metadata": {
    "collapsed": true
   },
   "outputs": [],
   "source": [
    "import requests\n",
    "from bs4 import BeautifulSoup\n",
    "import pandas\n",
    "ga=[]\n",
    "n={}\n",
    "fighter=\"Daniel-Cormier\"\n",
    "r=requests.get(\"http://www.ufc.ca/fighter/\"+fighter)\n",
    "c=r.content\n",
    "soup=BeautifulSoup(c,\"html.parser\")\n",
    "tablestatvalues=soup.find_all(\"td\",{\"class\":\"value\"})\n",
    "n[\"Record\"]=tablestatvalues[0].text\n",
    "n[\"Summary\"]=tablestatvalues[1].text\n",
    "n[\"Nickname\"]=tablestatvalues[2].text\n",
    "n[\"From\"]=tablestatvalues[3].text.replace(\"\\n\",\"\").replace(\"\\t\",\"\")\n",
    "n[\"Fights Out Of\"]=tablestatvalues[4].text.replace(\"\\n\",\"\").replace(\"\\t\",\"\")\n",
    "n[\"Age\"]=tablestatvalues[5].text\n",
    "n[\"Height\"]=tablestatvalues[6].text\n",
    "n[\"Weight\"]=tablestatvalues[7].text\n",
    "n[\"Reach\"]=tablestatvalues[8].text\n",
    "n[\"Leg Reach\"]=tablestatvalues[9].text"
   ]
  },
  {
   "cell_type": "code",
   "execution_count": 49,
   "metadata": {
    "collapsed": true
   },
   "outputs": [],
   "source": [
    "maxstats=soup.find_all(\"div\",{\"class\":\"max-number\"})\n",
    "n[\"MaxStrikesAttempted\"]=int(maxstats[0].text)\n",
    "n[\"SuccesfulTotalStrikes\"]=int(maxstats[1].text)\n",
    "n[\"MaxTakedownsAttempted\"]=int(maxstats[2].text)"
   ]
  },
  {
   "cell_type": "code",
   "execution_count": 50,
   "metadata": {},
   "outputs": [
    {
     "data": {
      "text/plain": [
       "[<div class=\"bar-text\" id=\"total-takedowns-number\">549</div>,\n",
       " <div class=\"bar-text\" id=\"total-takedowns-number\">15</div>]"
      ]
     },
     "execution_count": 50,
     "metadata": {},
     "output_type": "execute_result"
    }
   ],
   "source": [
    "maxstrikes=soup.find_all(\"div\",{\"id\":\"total-takedowns-number\"})\n",
    "maxstrikes"
   ]
  },
  {
   "cell_type": "code",
   "execution_count": 51,
   "metadata": {},
   "outputs": [
    {
     "data": {
      "text/plain": [
       "[<div class=\"text-bar red-text-bar right-border\" style=\"width:142.8990px\">\n",
       " <div class=\"bar-text\" id=\"total-takedowns-number\">549</div>\n",
       " </div>, <div class=\"text-bar red-text-bar right-border\" style=\"width:137px\">\n",
       " <div class=\"bar-text\">265</div>\n",
       " </div>, <div class=\"text-bar red-text-bar right-border\" style=\"width:112.4895px\">\n",
       " <div class=\"bar-text\" id=\"total-takedowns-number\">15</div>\n",
       " </div>, <div class=\"text-bar red-text-bar right-border\" style=\"width:95px\">\n",
       " <div class=\"bar-text\" id=\"successful-submissions\">6</div>\n",
       " </div>]"
      ]
     },
     "execution_count": 51,
     "metadata": {},
     "output_type": "execute_result"
    }
   ],
   "source": [
    "maxsstandingstrike=soup.find_all(\"div\",{\"class\":\"text-bar red-text-bar right-border\"})\n",
    "maxsstandingstrike"
   ]
  },
  {
   "cell_type": "code",
   "execution_count": null,
   "metadata": {
    "collapsed": true
   },
   "outputs": [],
   "source": [
    ""
   ]
  },
  {
   "cell_type": "code",
   "execution_count": 52,
   "metadata": {},
   "outputs": [
    {
     "data": {
      "text/plain": [
       "'265'"
      ]
     },
     "execution_count": 52,
     "metadata": {},
     "output_type": "execute_result"
    }
   ],
   "source": [
    "maxsstandingstrike[1].text.replace(\"\\n\",\"\")"
   ]
  },
  {
   "cell_type": "code",
   "execution_count": null,
   "metadata": {
    "collapsed": true
   },
   "outputs": [],
   "source": [
    ""
   ]
  },
  {
   "cell_type": "code",
   "execution_count": null,
   "metadata": {
    "collapsed": true
   },
   "outputs": [],
   "source": [
    ""
   ]
  },
  {
   "cell_type": "code",
   "execution_count": 53,
   "metadata": {},
   "outputs": [
    {
     "data": {
      "text/plain": [
       "'6'"
      ]
     },
     "execution_count": 53,
     "metadata": {},
     "output_type": "execute_result"
    }
   ],
   "source": [
    "maxsstandingstrike[3].text.replace(\"\\n\",\"\")"
   ]
  },
  {
   "cell_type": "code",
   "execution_count": 54,
   "metadata": {
    "collapsed": true
   },
   "outputs": [],
   "source": [
    "maxclinchingstrike = soup.find_all(\"div\", {\"class\": \"text-bar dark-red-text-bar right-border\"})\n",
    "maxgroundstrike = soup.find_all(\"div\", {\"class\": \"text-bar grey-text-bar\"})"
   ]
  },
  {
   "cell_type": "code",
   "execution_count": 55,
   "metadata": {},
   "outputs": [
    {
     "data": {
      "text/plain": [
       "'172'"
      ]
     },
     "execution_count": 55,
     "metadata": {},
     "output_type": "execute_result"
    }
   ],
   "source": [
    "maxclinchingstrike[0].text.replace(\"\\n\",\"\")"
   ]
  },
  {
   "cell_type": "code",
   "execution_count": 56,
   "metadata": {},
   "outputs": [
    {
     "data": {
      "text/plain": [
       "'21'"
      ]
     },
     "execution_count": 56,
     "metadata": {},
     "output_type": "execute_result"
    }
   ],
   "source": [
    "maxclinchingstrike[1].text.replace(\"\\n\",\"\")"
   ]
  },
  {
   "cell_type": "code",
   "execution_count": 57,
   "metadata": {},
   "outputs": [
    {
     "data": {
      "text/plain": [
       "'112'"
      ]
     },
     "execution_count": 57,
     "metadata": {},
     "output_type": "execute_result"
    }
   ],
   "source": [
    "maxgroundstrike[0].text.replace(\"\\n\",\"\")"
   ]
  },
  {
   "cell_type": "code",
   "execution_count": 59,
   "metadata": {},
   "outputs": [
    {
     "data": {
      "text/plain": [
       "'0'"
      ]
     },
     "execution_count": 59,
     "metadata": {},
     "output_type": "execute_result"
    }
   ],
   "source": [
    "maxgroundstrike[1].text.replace(\"\\n\",\"\")"
   ]
  },
  {
   "cell_type": "code",
   "execution_count": 80,
   "metadata": {},
   "outputs": [],
   "source": [
    "strikingdefense=soup.find_all(\"div\", {\"id\":\"striking-defense-pecentage\"})"
   ]
  },
  {
   "cell_type": "code",
   "execution_count": 89,
   "metadata": {},
   "outputs": [
    {
     "data": {
      "text/plain": [
       "'58'"
      ]
     },
     "execution_count": 89,
     "metadata": {},
     "output_type": "execute_result"
    }
   ],
   "source": [
    "strikingdefense[0].text.replace(\"\\n\",\"\").replace(\" \",\"\").replace('%','')"
   ]
  },
  {
   "cell_type": "code",
   "execution_count": null,
   "metadata": {
    "collapsed": true
   },
   "outputs": [],
   "source": [
    ""
   ]
  },
  {
   "cell_type": "code",
   "execution_count": null,
   "metadata": {
    "collapsed": true
   },
   "outputs": [],
   "source": [
    ""
   ]
  },
  {
   "cell_type": "code",
   "execution_count": null,
   "metadata": {
    "collapsed": true
   },
   "outputs": [],
   "source": [
    ""
   ]
  },
  {
   "cell_type": "code",
   "execution_count": null,
   "metadata": {
    "collapsed": true
   },
   "outputs": [],
   "source": [
    ""
   ]
  }
 ],
 "metadata": {
  "kernelspec": {
   "display_name": "Python 3",
   "language": "python",
   "name": "python3"
  },
  "language_info": {
   "codemirror_mode": {
    "name": "ipython",
    "version": 3.0
   },
   "file_extension": ".py",
   "mimetype": "text/x-python",
   "name": "python",
   "nbconvert_exporter": "python",
   "pygments_lexer": "ipython3",
   "version": "3.6.1"
  }
 },
 "nbformat": 4,
 "nbformat_minor": 0
}